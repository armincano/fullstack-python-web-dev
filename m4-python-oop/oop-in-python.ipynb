{
 "cells": [
  {
   "cell_type": "markdown",
   "metadata": {},
   "source": [
    "## Applying object-oriented programming in Python. 🗺️Animal>🐍🦆🦢"
   ]
  },
  {
   "cell_type": "markdown",
   "metadata": {},
   "source": [
    "### Inheritance"
   ]
  },
  {
   "cell_type": "markdown",
   "metadata": {},
   "source": [
    "#### Multiple inheritance"
   ]
  },
  {
   "cell_type": "code",
   "execution_count": null,
   "metadata": {},
   "outputs": [],
   "source": [
    "class Person:\n",
    "    def __init__(self, name, last_name, year):\n",
    "        self.name = name\n",
    "        self.last_name = last_name\n",
    "        self.year = year\n",
    "\n",
    "class Department:\n",
    "    def __init__(self, department_name, department_short_name):\n",
    "        self.department_name = department_name\n",
    "        self.department_short_name = department_short_name\n",
    "\n",
    "class Worker(Person, Department):\n",
    "    def __init__(self, name, last_name, year, department_name, department_short_name, salary):\n",
    "        Person.__init__(self, name, last_name, year)\n",
    "        Department.__init__(self, department_name, department_short_name)\n",
    "        self.salary = salary\n",
    "    def __dict__(self):\n",
    "        return {\n",
    "            \"name\": self.name,\n",
    "            \"last_name\": self.last_name,\n",
    "            \"year\": self.year,\n",
    "            \"department_name\": self.department_name,\n",
    "            \"department_short_name\": self.department_short_name,\n",
    "            \"salary\": self.salary\n",
    "        }\n",
    "        \n",
    "class Student:\n",
    "    pass\n",
    "\n",
    "worker_1 = Worker(\"Juan\", \"Pérez\", 2005, \"Ingeniería de software\", \"IS\", 20000)\n",
    "print(worker_1.__dict__())\n",
    "\n",
    "is_worker_1_instance_of_person = isinstance(worker_1, Worker)\n",
    "is_worker_1_instance_of_department = isinstance(worker_1, Worker)\n",
    "is_worker_1_instance_of_worker = isinstance(worker_1, Worker)\n",
    "is_worker_1_instance_of_student = isinstance(worker_1, Student)\n",
    "\n",
    "print(f\"Is worker_1 instance of Person: {is_worker_1_instance_of_person}\")\n",
    "print(f\"Is worker_1 instance of Department: {is_worker_1_instance_of_department}\")\n",
    "print(f\"Is worker_1 instance of Worker: {is_worker_1_instance_of_worker}\")\n",
    "print(f\"Is worker_1 instance of Student: {is_worker_1_instance_of_student}\")"
   ]
  },
  {
   "cell_type": "markdown",
   "metadata": {},
   "source": [
    "#### Hierarchical inheritance"
   ]
  },
  {
   "cell_type": "code",
   "execution_count": null,
   "metadata": {},
   "outputs": [],
   "source": [
    "class Figuras:\n",
    "    def __init__(self, perimetro_lado:float, cantidad_lados:int):\n",
    "        self._perimetro_lado = perimetro_lado\n",
    "        self._cantidad_lados = cantidad_lados\n",
    "        \n",
    "    @property\n",
    "    def perimetro_lado(self):\n",
    "        return self._perimetro_lado\n",
    "        \n",
    "    @property\n",
    "    def cantidad_lados(self):\n",
    "        return self._cantidad_lados\n",
    "        \n",
    "    def calcular_perimetro(self):\n",
    "        return self.perimetro_lado * self.cantidad_lados\n",
    "    \n",
    "figura_1 = Figuras(3,3)\n",
    "print(figura_1.calcular_perimetro())\n",
    "\n",
    "class Cuadrado(Figuras):\n",
    "    def __init__(self, perimetro_lado:float):\n",
    "        super().__init__(perimetro_lado, 4)\n",
    "\n",
    "class Pentagono(Figuras):\n",
    "    def __init__(self, perimetro_lado:float):\n",
    "        super().__init__(perimetro_lado, 5)\n",
    "\n",
    "\n",
    "class Exagono:\n",
    "    pass\n",
    "\n",
    "\n",
    "class Octagono:\n",
    "    pass\n",
    "\n",
    "cuadrado_1 = Cuadrado(3)\n",
    "print(cuadrado_1.calcular_perimetro())\n",
    "\n",
    "pentagono_1 = Pentagono(3)\n",
    "print(pentagono_1.calcular_perimetro())"
   ]
  },
  {
   "cell_type": "markdown",
   "metadata": {},
   "source": [
    "### Polymorphism"
   ]
  },
  {
   "cell_type": "markdown",
   "metadata": {},
   "source": [
    "#### Overloading polymorphism"
   ]
  },
  {
   "cell_type": "code",
   "execution_count": 1,
   "metadata": {},
   "outputs": [
    {
     "name": "stdout",
     "output_type": "stream",
     "text": [
      "{'author': 'Dan Brown', 'title': 'The Da Vinci Code', 'publication_year': 2003}\n",
      "{'author': 'Dan Brown', 'title': 'Inferno'}\n"
     ]
    }
   ],
   "source": [
    "class Book:\n",
    "    def __init__(self, author: str, title: str, publication_year: int = None):\n",
    "        self._author = author\n",
    "        self._title = title\n",
    "        self._publication_year = publication_year\n",
    "        \n",
    "    def __dict__(self):\n",
    "        book_dict = {\n",
    "            'author': self._author,\n",
    "            'title': self._title\n",
    "        }\n",
    "        if self._publication_year is not None:\n",
    "            book_dict['publication_year'] = self._publication_year\n",
    "        return book_dict\n",
    "\n",
    "book_1 = Book('Dan Brown', 'The Da Vinci Code', 2003)\n",
    "print(book_1.__dict__())\n",
    "\n",
    "book_2 = Book('Dan Brown', 'Inferno')\n",
    "print(book_2.__dict__())"
   ]
  },
  {
   "cell_type": "markdown",
   "metadata": {},
   "source": [
    "#### Inclusion polymorphism"
   ]
  },
  {
   "cell_type": "code",
   "execution_count": 2,
   "metadata": {},
   "outputs": [
    {
     "name": "stdout",
     "output_type": "stream",
     "text": [
      "Brando\n",
      "3\n",
      "Dog\n",
      "San Bernardo\n",
      "30\n",
      "✎﹏﹏﹏﹏﹏﹏﹏﹏﹏\n",
      "Name: Brando\n",
      "Specie: Dog\n",
      "Breed: San Bernardo\n",
      "Age: 3\n",
      "Weight: 30\n",
      "﹏﹏﹏﹏﹏﹏﹏﹏﹏₊∘\n",
      "Brando is walking like a dog\n",
      "Brando is eating\n",
      "Roll is walking like a cat\n",
      "Roll is eating\n"
     ]
    }
   ],
   "source": [
    "class Animal:\n",
    "    def __init__(self, name: str, specie: str, breed: str, age: int, weight: float):\n",
    "        self.name: str = name\n",
    "        self.specie: str = specie\n",
    "        self.breed: str = breed\n",
    "        self.age: int = age\n",
    "        self.weight: float = weight\n",
    "\n",
    "    def __str__(self):\n",
    "        return f\"✎﹏﹏﹏﹏﹏﹏﹏﹏﹏\\nName: {self.name}\\nSpecie: {self.specie}\\nBreed: {self.breed}\\nAge: {self.age}\\nWeight: {self.weight}\\n﹏﹏﹏﹏﹏﹏﹏﹏﹏₊∘\"\n",
    "\n",
    "    def eat(self):\n",
    "        print(f\"{self.name} is eating\")\n",
    "        \n",
    "    def walk(self):\n",
    "        print(f\"{self.name} is walking\")\n",
    "        \n",
    "    def sleep(self):\n",
    "        print(f\"{self.name} is sleeping\")\n",
    "\n",
    "class Dog(Animal):\n",
    "    def __init__(self, name: str, breed: str, age: int, weight: float):\n",
    "        super().__init__(name, \"Dog\", breed, age, weight)\n",
    "        \n",
    "    def walk(self):\n",
    "        print(f\"{self.name} is walking like a dog\")\n",
    "        \n",
    "class Cat(Animal):\n",
    "    def __init__(self, name: str, breed: str, age: int, weight: float):\n",
    "        super().__init__(name, \"Cat\", breed, age, weight)\n",
    "        \n",
    "    def walk(self):\n",
    "        print(f\"{self.name} is walking like a cat\")\n",
    "\n",
    "\n",
    "dog_brando = Dog(\"Brando\",\"San Bernardo\", 3, 30)\n",
    "cat_roll = Cat(\"Roll\",\"Persa\", 4, 3)\n",
    "\n",
    "print(dog_brando.name)\n",
    "print(dog_brando.age)\n",
    "print(dog_brando.specie)\n",
    "print(dog_brando.breed)\n",
    "print(dog_brando.weight)\n",
    "print(dog_brando.__str__())\n",
    "dog_brando.walk()\n",
    "dog_brando.eat()\n",
    "cat_roll.walk()\n",
    "cat_roll.eat()"
   ]
  }
 ],
 "metadata": {
  "kernelspec": {
   "display_name": "Python 3",
   "language": "python",
   "name": "python3"
  },
  "language_info": {
   "codemirror_mode": {
    "name": "ipython",
    "version": 3
   },
   "file_extension": ".py",
   "mimetype": "text/x-python",
   "name": "python",
   "nbconvert_exporter": "python",
   "pygments_lexer": "ipython3",
   "version": "3.9.6"
  }
 },
 "nbformat": 4,
 "nbformat_minor": 2
}
