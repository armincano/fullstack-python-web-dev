{
 "cells": [
  {
   "cell_type": "markdown",
   "metadata": {},
   "source": [
    "## Handling exceptions 💥🤯"
   ]
  },
  {
   "cell_type": "markdown",
   "metadata": {},
   "source": [
    "### Custom exception, and `ValueError` for an input\n",
    "1. Design a new user-defined exception class.\n",
    "\n",
    "2. This class should handle the input value of a variable called salary.\n",
    "\n",
    "3. Ensure that the salary value is between 1000 and 2000.\n",
    "\n",
    "4. If the salary value is not within this range, raise an exception.\n",
    "\n",
    "5. The exception should indicate that the salary is not within the range of 1000 to 2000."
   ]
  },
  {
   "cell_type": "code",
   "execution_count": 1,
   "metadata": {},
   "outputs": [
    {
     "name": "stdout",
     "output_type": "stream",
     "text": [
      "The salary is 1000\n"
     ]
    }
   ],
   "source": [
    "class SalaryNotInRange(Exception):\n",
    "    def __init__(self, message=\"The salary must be between 1000 and 2000\"):\n",
    "        self.__message = message\n",
    "        super().__init__(self.__message)\n",
    "        \n",
    "salary = None\n",
    "while True:\n",
    "    try:\n",
    "        input_salary = int(input(\"Enter a salary: \"))\n",
    "        if input_salary not in range(1000,2001):\n",
    "            raise SalaryNotInRange\n",
    "        salary = input_salary\n",
    "        break\n",
    "    except SalaryNotInRange as e:\n",
    "        print(e)\n",
    "    except ValueError:\n",
    "        print(\"The input salary must be an integer.\")\n",
    "print(f\"The salary is {salary}\")"
   ]
  },
  {
   "cell_type": "markdown",
   "metadata": {},
   "source": [
    "### A virtual cart"
   ]
  },
  {
   "cell_type": "markdown",
   "metadata": {},
   "source": []
  }
 ],
 "metadata": {
  "kernelspec": {
   "display_name": "Python 3",
   "language": "python",
   "name": "python3"
  },
  "language_info": {
   "codemirror_mode": {
    "name": "ipython",
    "version": 3
   },
   "file_extension": ".py",
   "mimetype": "text/x-python",
   "name": "python",
   "nbconvert_exporter": "python",
   "pygments_lexer": "ipython3",
   "version": "3.9.6"
  }
 },
 "nbformat": 4,
 "nbformat_minor": 2
}
