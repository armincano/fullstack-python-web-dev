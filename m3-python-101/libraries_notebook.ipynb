{
 "cells": [
  {
   "cell_type": "markdown",
   "metadata": {},
   "source": [
    "## Libraries 📚\n"
   ]
  },
  {
   "cell_type": "markdown",
   "metadata": {},
   "source": [
    "### math"
   ]
  },
  {
   "cell_type": "code",
   "execution_count": 1,
   "metadata": {},
   "outputs": [
    {
     "name": "stdout",
     "output_type": "stream",
     "text": [
      "9.0\n"
     ]
    }
   ],
   "source": [
    "import math\n",
    "\n",
    "y = 81\n",
    "square_root_y = math.sqrt(y)\n",
    "print(square_root_y)"
   ]
  },
  {
   "cell_type": "markdown",
   "metadata": {},
   "source": [
    "### random\n",
    "\n",
    "Crear un programa que permita al usuario adivinar un número aleatorio entre 1 y 10 inclusivos.\n",
    "El programa debe dar una sola oportunidad al usuario para adivinar y debe indicar si el usuario adivinó correctamente o no."
   ]
  },
  {
   "cell_type": "code",
   "execution_count": 7,
   "metadata": {},
   "outputs": [
    {
     "name": "stdout",
     "output_type": "stream",
     "text": [
      "^-^-^-^-^-^-^-^-^-^-^-^-^-^-^-^-^-^-^-^-^-^-^-^-^-^-^-^-^-^-^\n",
      "¡Bienvenido al juego de adivinar el número!\n",
      "Tienes una oportunidad para adivinar el número aleatorio entre 1 y 10.\n",
      "¡Buena suerte!\n",
      "Generando un número aleatorio...\n",
      "6\n",
      "6\n",
      "8\n",
      "Número generado.\n",
      "^-^-^-^-^-^-^-^-^-^-^-^-^-^-^-^-^-^-^-^-^-^-^-^-^-^-^-^-^-^-^\n",
      "Procesando respuesta...\n",
      "¿Le achuntaste? :O\n",
      "^-^-^-^-^-^-^-^-^-^-^-^-^-^-^-^-^-^-^-^-^-^-^-^-^-^-^-^-^-^-^\n",
      "Lo siento, no adivinaste el número. El número era: 1\n"
     ]
    }
   ],
   "source": [
    "import random\n",
    "import time\n",
    "\n",
    "divider = \"^-^-^-^-^-^-^-^-^-^-^-^-^-^-^-^-^-^-^-^-^-^-^-^-^-^-^-^-^-^-^\"\n",
    "\n",
    "print(divider)\n",
    "print(\"¡Bienvenido al juego de adivinar el número!\")\n",
    "print(\"Tienes una oportunidad para adivinar el número aleatorio entre 1 y 10.\")\n",
    "time.sleep(5)\n",
    "print(\"¡Buena suerte!\")\n",
    "time.sleep(2)\n",
    "print(\"Generando un número aleatorio...\")\n",
    "time.sleep(0.5)\n",
    "print(random.randint(1, 10))\n",
    "time.sleep(0.5)\n",
    "print(random.randint(1, 10))\n",
    "time.sleep(0.5)\n",
    "print(random.randint(1, 10))\n",
    "time.sleep(0.5)\n",
    "random_number = random.randint(1, 10)\n",
    "print(\"Número generado.\")\n",
    "\n",
    "print(divider)\n",
    "\n",
    "user_guess_number = int(input(\"Adivina el número aleatorio entre 1 y 10, ingrésalo: \"))\n",
    "print(\"Procesando respuesta...\")\n",
    "time.sleep(1)\n",
    "print(\"¿Le achuntaste? :O\")\n",
    "time.sleep(2)\n",
    "\n",
    "print(divider)\n",
    "\n",
    "if user_guess_number == random_number:\n",
    "    print(\"¡Felicidades! Adivinaste el número.\")\n",
    "else: print(\"Lo siento, no adivinaste el número. El número era:\", random_number)"
   ]
  }
 ],
 "metadata": {
  "kernelspec": {
   "display_name": "Python 3",
   "language": "python",
   "name": "python3"
  },
  "language_info": {
   "codemirror_mode": {
    "name": "ipython",
    "version": 3
   },
   "file_extension": ".py",
   "mimetype": "text/x-python",
   "name": "python",
   "nbconvert_exporter": "python",
   "pygments_lexer": "ipython3",
   "version": "3.9.6"
  }
 },
 "nbformat": 4,
 "nbformat_minor": 2
}
