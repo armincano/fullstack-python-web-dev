{
 "cells": [
  {
   "cell_type": "markdown",
   "metadata": {},
   "source": [
    "## Iterative statements 🔃\n"
   ]
  },
  {
   "cell_type": "markdown",
   "metadata": {},
   "source": [
    "### Bubble sorting algorithm 🫧👇 - `for` loop\n",
    "\n",
    "Dado 3 números diferentes, evaluar y entregar el orden de mayor a menor\n",
    "This is a variation of the Bubble Sort algorithm. Bubble Sort repeatedly steps through the list, compares adjacent elements, and swaps them if they are in the wrong order. The process is repeated until the list is sorted.\n",
    "\n",
    "Bubble Sort requires at most ( `n-1` ) passes through the list, where ( `n` ) is the number of elements in the list."
   ]
  },
  {
   "cell_type": "code",
   "execution_count": 1,
   "metadata": {},
   "outputs": [
    {
     "name": "stdout",
     "output_type": "stream",
     "text": [
      "[6, 5, 4]\n"
     ]
    }
   ],
   "source": [
    "number_1=4\n",
    "number_2=5\n",
    "number_3=6\n",
    "\n",
    "decreasing_order = [number_1,number_2,number_3]\n",
    "\n",
    "for _ in range(len(decreasing_order) - 1):\n",
    "    for idx in range(len(decreasing_order)):\n",
    "        if idx==len(decreasing_order)-1:\n",
    "            continue\n",
    "        elif decreasing_order[idx] < decreasing_order[idx+1]:\n",
    "            # Swap the elements\n",
    "            decreasing_order[idx],decreasing_order[idx+1] = decreasing_order[idx+1],decreasing_order[idx]\n",
    "        else:\n",
    "            continue\n",
    "    # early exit: break the loop if the numbers are in ordered\n",
    "    if decreasing_order[0] > decreasing_order[1] and decreasing_order[1] > decreasing_order[2]:\n",
    "        break\n",
    "            \n",
    "print(decreasing_order)"
   ]
  },
  {
   "cell_type": "markdown",
   "metadata": {},
   "source": [
    "### Delete vocals in a word 🅰️👇 - `for` loop\n",
    "\n",
    "1. eliminar todas las vocales de la palabra \"paralelepípedo\"\n",
    "2. imprimir en pantalla las consonantes restantes y su posición dentro de dicha palabra"
   ]
  },
  {
   "cell_type": "code",
   "execution_count": 2,
   "metadata": {},
   "outputs": [
    {
     "name": "stdout",
     "output_type": "stream",
     "text": [
      "prllppd\n",
      "p 0\n",
      "r 1\n",
      "l 2\n",
      "l 3\n",
      "p 4\n",
      "p 5\n",
      "d 6\n"
     ]
    }
   ],
   "source": [
    "word_1 = \"paralelepípedo\"\n",
    "vowels = \"aeiouáéíóú\"\n",
    "no_vocals_in_word = \"\"\n",
    "\n",
    "for i in word_1.lower():\n",
    "    if i not in vowels:\n",
    "        no_vocals_in_word += i\n",
    "        \n",
    "print(no_vocals_in_word)\n",
    "\n",
    "for i in range(len(no_vocals_in_word)):\n",
    "    print(no_vocals_in_word[i], i)"
   ]
  }
 ],
 "metadata": {
  "kernelspec": {
   "display_name": "Python 3",
   "language": "python",
   "name": "python3"
  },
  "language_info": {
   "codemirror_mode": {
    "name": "ipython",
    "version": 3
   },
   "file_extension": ".py",
   "mimetype": "text/x-python",
   "name": "python",
   "nbconvert_exporter": "python",
   "pygments_lexer": "ipython3",
   "version": "3.9.6"
  }
 },
 "nbformat": 4,
 "nbformat_minor": 2
}
