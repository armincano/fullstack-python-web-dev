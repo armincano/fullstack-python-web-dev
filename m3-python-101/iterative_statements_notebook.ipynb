{
 "cells": [
  {
   "cell_type": "markdown",
   "metadata": {},
   "source": [
    "## Iterative statements 🔃\n"
   ]
  },
  {
   "cell_type": "markdown",
   "metadata": {},
   "source": [
    "### Bubble sorting algorithm 🫧👇 - `for` loop\n",
    "\n",
    "Dado 3 números diferentes, evaluar y entregar el orden de mayor a menor. This is a variation of the Bubble Sort algorithm. Bubble Sort repeatedly steps through the list, compares adjacent elements, and swaps them if they are in the wrong order. The process is repeated until the list is sorted.\n",
    "\n",
    "Bubble Sort requires at most ( `n-1` ) passes through the list, where ( `n` ) is the number of elements in the list."
   ]
  },
  {
   "cell_type": "code",
   "execution_count": 1,
   "metadata": {},
   "outputs": [
    {
     "name": "stdout",
     "output_type": "stream",
     "text": [
      "[6, 5, 4]\n"
     ]
    }
   ],
   "source": [
    "number_1=4\n",
    "number_2=5\n",
    "number_3=6\n",
    "\n",
    "decreasing_order = [number_1,number_2,number_3]\n",
    "\n",
    "for _ in range(len(decreasing_order) - 1):\n",
    "    for idx in range(len(decreasing_order)):\n",
    "        if idx==len(decreasing_order)-1:\n",
    "            continue\n",
    "        elif decreasing_order[idx] < decreasing_order[idx+1]:\n",
    "            # Swap the elements\n",
    "            decreasing_order[idx],decreasing_order[idx+1] = decreasing_order[idx+1],decreasing_order[idx]\n",
    "        else:\n",
    "            continue\n",
    "    # early exit: break the loop if the numbers are in ordered\n",
    "    if decreasing_order[0] > decreasing_order[1] and decreasing_order[1] > decreasing_order[2]:\n",
    "        break\n",
    "            \n",
    "print(decreasing_order)"
   ]
  },
  {
   "cell_type": "markdown",
   "metadata": {},
   "source": [
    "### Print the ▶ figure with characters using index 👇 - `for` and `while` loops"
   ]
  },
  {
   "cell_type": "code",
   "execution_count": 2,
   "metadata": {},
   "outputs": [
    {
     "name": "stdout",
     "output_type": "stream",
     "text": [
      "\n",
      "* \n",
      "* * \n",
      "* * * \n",
      "* * * * \n",
      "* * * * * \n",
      "5 4 3 2 1 \n",
      "5 4 3 2 \n",
      "5 4 3 \n",
      "5 4 \n",
      "5 \n"
     ]
    }
   ],
   "source": [
    "for i in range(6):\n",
    "    for j in range(i):\n",
    "        print('* ', end=\"\")\n",
    "    print(\"\")\n",
    "    \n",
    "i=1\n",
    "while(i<=5):\n",
    "    j=5\n",
    "    while(j>=i):\n",
    "        print(j, end=' ')\n",
    "        j-=1\n",
    "    i+=1\n",
    "    print()"
   ]
  },
  {
   "cell_type": "markdown",
   "metadata": {},
   "source": [
    "### Filter by prime number 🌀👇 - `for` loop and `list` of `dict`s\n",
    "\n",
    "1. Imprimir los elementos que cumplan los siguientes filtros:\n",
    "- edad mayor a 18\n",
    "- promedio de calificaciones mayor a 85\n",
    "2. Además, imprime el promedio de calificaciones de los estudiantes que cumplen\n",
    "con los filtros anteriores y cuya edad es un número primo."
   ]
  },
  {
   "cell_type": "code",
   "execution_count": 1,
   "metadata": {},
   "outputs": [
    {
     "name": "stdout",
     "output_type": "stream",
     "text": [
      "Estudiantes mayores de 18 años y con promedio de calificaciones mayor a 85:\n",
      "Nombre: María, Edad: 19, Calificaciones: [92, 89, 90]\n",
      "Nombre: Pedro, Edad: 21, Calificaciones: [85, 95, 80]\n",
      "Nombre: Ana, Edad: 18, Calificaciones: [90, 92, 87]\n",
      "Nombre: Luis, Edad: 20, Calificaciones: [88, 85, 92]\n",
      "\n",
      "Promedio de calificaciones de estudiantes filtrados cuya edad es un número primo:\n",
      "El promedio de calificaciones de María es 90\n"
     ]
    }
   ],
   "source": [
    "students_list = [\n",
    "    {'nombre': 'Juan', 'edad': 17, 'calificaciones': [85, 90, 88]},\n",
    "    {'nombre': 'María', 'edad': 19, 'calificaciones': [92, 89, 90]},\n",
    "    {'nombre': 'Pedro', 'edad': 21, 'calificaciones': [85, 95, 80]},\n",
    "    {'nombre': 'Ana', 'edad': 18, 'calificaciones': [90, 92, 87]},\n",
    "    {'nombre': 'Luis', 'edad': 20, 'calificaciones': [88, 85, 92]},\n",
    "]\n",
    "\n",
    "students_older_than_18_and_greater_85_grade = []\n",
    "\n",
    "for student in students_list:\n",
    "    is_older_than_18 = student['edad'] >= 18\n",
    "    is_average_grade_greater_85 = sum(student['calificaciones']) / len(student['calificaciones']) > 85\n",
    "    \n",
    "    if is_older_than_18 and is_average_grade_greater_85:\n",
    "        students_older_than_18_and_greater_85_grade.append(student)\n",
    "\n",
    "filtered_students_with_prime_age = []\n",
    "\n",
    "for student in students_older_than_18_and_greater_85_grade:\n",
    "    is_prime = True\n",
    "    for i in range(2, student['edad']):\n",
    "        if student['edad'] % i == 0:\n",
    "            is_prime = False\n",
    "            break\n",
    "    if is_prime:\n",
    "        filtered_students_with_prime_age.append(student)\n",
    "\n",
    "print(\"Estudiantes mayores de 18 años y con promedio de calificaciones mayor a 85:\")\n",
    "for student in students_older_than_18_and_greater_85_grade:\n",
    "    formatted_student = f\"Nombre: {student['nombre']}, Edad: {student['edad']}, Calificaciones: {student['calificaciones']}\"\n",
    "    print(formatted_student)\n",
    "\n",
    "print(\"\")\n",
    "print(\"Promedio de calificaciones de estudiantes filtrados cuya edad es un número primo:\")\n",
    "for student in filtered_students_with_prime_age:\n",
    "    average_grade = round(sum(student['calificaciones']) / len(student['calificaciones']))\n",
    "    print(f\"El promedio de calificaciones de {student['nombre']} es {average_grade}\")"
   ]
  },
  {
   "cell_type": "markdown",
   "metadata": {},
   "source": [
    "### Delete vocals in a word 🅰️👇 - `for` loop\n",
    "\n",
    "1. eliminar todas las vocales de la palabra \"paralelepípedo\"\n",
    "2. imprimir en pantalla las consonantes restantes y su posición dentro de dicha palabra"
   ]
  },
  {
   "cell_type": "code",
   "execution_count": 2,
   "metadata": {},
   "outputs": [
    {
     "name": "stdout",
     "output_type": "stream",
     "text": [
      "prllppd\n",
      "p 0\n",
      "r 1\n",
      "l 2\n",
      "l 3\n",
      "p 4\n",
      "p 5\n",
      "d 6\n"
     ]
    }
   ],
   "source": [
    "word_1 = \"paralelepípedo\"\n",
    "vowels = \"aeiouáéíóú\"\n",
    "no_vocals_in_word = \"\"\n",
    "\n",
    "for i in word_1.lower():\n",
    "    if i not in vowels:\n",
    "        no_vocals_in_word += i\n",
    "        \n",
    "print(no_vocals_in_word)\n",
    "\n",
    "for i in range(len(no_vocals_in_word)):\n",
    "    print(no_vocals_in_word[i], i)"
   ]
  },
  {
   "cell_type": "markdown",
   "metadata": {},
   "source": [
    "### Guess a number 🤔👇 - `while` loop\n",
    "\n",
    "Implementar un juego en Python donde el usuario debe adivinar un número secreto entre 1 y 100. \n",
    "El programa debe indicar si el número ingresado es mayor o menor al número secreto y continuar preguntando hasta que el usuario lo adivine."
   ]
  },
  {
   "cell_type": "code",
   "execution_count": 3,
   "metadata": {},
   "outputs": [
    {
     "name": "stdout",
     "output_type": "stream",
     "text": [
      "^-^-^-^-^-^-^-^-^-^-^-^-^-^-^-^-^-^-^-^-^-^-^-^-^-^-^-^-^-^-^\n",
      "Bienvenido al Juego de Adivinar el Número Secreto\n",
      "Instrucciones: Adivina un número entre 1 y 100\n",
      "Generando número secreto... 42\n",
      "Generando número secreto... 26\n",
      "Generando número secreto... 85\n",
      "Número secreto generado. Es 2 :P ¡Comencemos!\n",
      "^-^-^-^-^-^-^-^-^-^-^-^-^-^-^-^-^-^-^-^-^-^-^-^-^-^-^-^-^-^-^\n",
      "El número secreto es mayor. Intenta de nuevo.\n",
      "El número secreto es menor. Intenta de nuevo.\n",
      "=^..^=   =^..^=   =^..^=    =^..^=    =^..^=    =^..^=    =^..^=\n",
      "¡Felicidades!\n",
      "Has adivinado el número secreto.\n"
     ]
    }
   ],
   "source": [
    "import random\n",
    "import time\n",
    "\n",
    "divider = \"^-^-^-^-^-^-^-^-^-^-^-^-^-^-^-^-^-^-^-^-^-^-^-^-^-^-^-^-^-^-^\"\n",
    "divider_2 = \"=^..^=   =^..^=   =^..^=    =^..^=    =^..^=    =^..^=    =^..^=\"\n",
    "is_game_over = False\n",
    "\n",
    "print(divider)\n",
    "print(\"Bienvenido al Juego de Adivinar el Número Secreto\")\n",
    "time.sleep(2)\n",
    "print(\"Instrucciones: Adivina un número entre 1 y 100\")\n",
    "time.sleep(2)\n",
    "print(f\"Generando número secreto... {random.randint(1, 100)}\")\n",
    "time.sleep(0.5)\n",
    "print(f\"Generando número secreto... {random.randint(1, 100)}\")\n",
    "time.sleep(0.5)\n",
    "print(f\"Generando número secreto... {random.randint(1, 100)}\")\n",
    "time.sleep(0.5)\n",
    "\n",
    "secret_number = random.randint(1, 100)\n",
    "print(f\"Número secreto generado. Es {secret_number} :P ¡Comencemos!\")\n",
    "print(divider)\n",
    "\n",
    "while not is_game_over:\n",
    "    input_number = int(input(\"Ingresa tu número: \"))\n",
    "    is_input_greater = input_number > secret_number\n",
    "    is_input_lower = input_number < secret_number\n",
    "    if is_input_greater:\n",
    "        print(\"El número secreto es menor. Intenta de nuevo.\")\n",
    "    elif is_input_lower:\n",
    "        print(\"El número secreto es mayor. Intenta de nuevo.\")\n",
    "    else:\n",
    "        is_game_over = True\n",
    "        time.sleep(0.5)\n",
    "        print(divider_2)\n",
    "        print(\"¡Felicidades!\")\n",
    "        time.sleep(0.5)\n",
    "        print(\"Has adivinado el número secreto.\")"
   ]
  },
  {
   "cell_type": "markdown",
   "metadata": {},
   "source": [
    "### Delete duplicate elements, a prototype of what a set data structure does 👇\n",
    "\n",
    "The code iterates through the list and removes any duplicate elements it encounters. "
   ]
  },
  {
   "cell_type": "code",
   "execution_count": 1,
   "metadata": {},
   "outputs": [
    {
     "name": "stdout",
     "output_type": "stream",
     "text": [
      "[5, 15, 18, 20, 25, 50]\n"
     ]
    }
   ],
   "source": [
    "list_1 = [5, 20, 15, 20, 25, 50, 20, 5, 18, 15]\n",
    "\n",
    "for i in range(len(list_1)):\n",
    "    for j in range(i+1, len(list_1)):\n",
    "        if len(list_1) <= j: # checking if the length of list_1 is less than or equal to the value of j. If it is, it means that list_1 is out of range at index j.\n",
    "            break\n",
    "        if list_1[j] == list_1[i]:\n",
    "            list_1.pop(j)\n",
    "    if len(list_1) <= i:\n",
    "        break\n",
    "            \n",
    "sorted_list_1 = sorted(list_1)\n",
    "print(sorted_list_1)"
   ]
  }
 ],
 "metadata": {
  "kernelspec": {
   "display_name": "Python 3",
   "language": "python",
   "name": "python3"
  },
  "language_info": {
   "codemirror_mode": {
    "name": "ipython",
    "version": 3
   },
   "file_extension": ".py",
   "mimetype": "text/x-python",
   "name": "python",
   "nbconvert_exporter": "python",
   "pygments_lexer": "ipython3",
   "version": "3.9.6"
  }
 },
 "nbformat": 4,
 "nbformat_minor": 2
}
