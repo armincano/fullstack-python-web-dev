{
 "cells": [
  {
   "cell_type": "markdown",
   "metadata": {},
   "source": [
    "## Functions 🔂"
   ]
  },
  {
   "cell_type": "markdown",
   "metadata": {},
   "source": [
    "### Calc app 🧮👇\n",
    "\n",
    "Argument Tuple Packing and Handle Exception."
   ]
  },
  {
   "cell_type": "code",
   "execution_count": 1,
   "metadata": {},
   "outputs": [
    {
     "name": "stdout",
     "output_type": "stream",
     "text": [
      "{'addition': 6, 'subtraction': 2, 'multiplication': 8, 'division': 2.0}\n"
     ]
    }
   ],
   "source": [
    "def add(num_1, num_2):\n",
    "    return num_1 + num_2\n",
    "\n",
    "\n",
    "def subtract(num_1, num_2):\n",
    "    return num_1 - num_2\n",
    "\n",
    "\n",
    "def multiply(num_1, num_2):\n",
    "    return num_1 * num_2\n",
    "\n",
    "\n",
    "def divide(num_1, num_2):\n",
    "    if num_2 == 0:\n",
    "        raise ValueError(\"Cannot divide by zero\")\n",
    "    return num_1 / num_2\n",
    "\n",
    "\n",
    "def calc_operations(num1, num2):\n",
    "    addition = add(num1, num2)\n",
    "    subtraction = subtract(num1, num2)\n",
    "    multiplication = multiply(num1, num2)\n",
    "    try:\n",
    "        division = divide(num1, num2)\n",
    "    except ValueError as e:\n",
    "        print(f\"Error: {e}\")\n",
    "        division = None\n",
    "    results = (addition, subtraction, multiplication, division)\n",
    "    return results\n",
    "\n",
    "\n",
    "def calc_results_to_dict(*calc_results):\n",
    "    if len(calc_results) != 4:\n",
    "        return \"A tuple with 4 values is required\"\n",
    "    elif calc_results[3] is None:\n",
    "        return \"Cannot divide by zero\"\n",
    "    \n",
    "    operations_keys = (\"addition\", \"subtraction\", \"multiplication\", \"division\")\n",
    "    results_dict = {}\n",
    "    for count, value in enumerate(calc_results):\n",
    "        results_dict.update({operations_keys[count]: value})\n",
    "    return results_dict\n",
    "\n",
    "\n",
    "results = calc_operations(4, 2)\n",
    "results_dict = calc_results_to_dict(*results)\n",
    "print(results_dict)"
   ]
  }
 ],
 "metadata": {
  "kernelspec": {
   "display_name": "Python 3",
   "language": "python",
   "name": "python3"
  },
  "language_info": {
   "codemirror_mode": {
    "name": "ipython",
    "version": 3
   },
   "file_extension": ".py",
   "mimetype": "text/x-python",
   "name": "python",
   "nbconvert_exporter": "python",
   "pygments_lexer": "ipython3",
   "version": "3.9.6"
  }
 },
 "nbformat": 4,
 "nbformat_minor": 2
}
