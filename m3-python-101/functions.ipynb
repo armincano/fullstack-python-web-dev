{
 "cells": [
  {
   "cell_type": "markdown",
   "metadata": {},
   "source": [
    "## Functions 🔂"
   ]
  },
  {
   "cell_type": "markdown",
   "metadata": {},
   "source": [
    "### Calc app 🧮👇\n",
    "\n",
    "Argument Tuple Packing and Exception Handling.\n",
    "\n",
    "Notice the `input_number` that contains an infinite Loop.\n",
    "The exit condition is to enter a valid number that is returned by the `return` number statement. If an invalid number is entered, the except `ValueError` block handles the exception, prints an error message, and the loop continues.\n",
    "The loop's condition `True` is never modified directly because the loop relies on the `return` statement to exit."
   ]
  },
  {
   "cell_type": "code",
   "execution_count": 2,
   "metadata": {},
   "outputs": [
    {
     "name": "stdout",
     "output_type": "stream",
     "text": [
      "{'addition': 3.0, 'subtraction': -1.0, 'multiplication': 2.0, 'division': 0.5}\n"
     ]
    }
   ],
   "source": [
    "def add(num_1, num_2):\n",
    "    return num_1 + num_2\n",
    "\n",
    "\n",
    "def subtract(num_1, num_2):\n",
    "    return num_1 - num_2\n",
    "\n",
    "\n",
    "def multiply(num_1, num_2):\n",
    "    return num_1 * num_2\n",
    "\n",
    "\n",
    "def divide(num_1, num_2):\n",
    "    if num_2 == 0:\n",
    "        raise ValueError(\"Cannot divide by zero\")\n",
    "    return num_1 / num_2\n",
    "\n",
    "\n",
    "def calc_operations(num1, num2):\n",
    "    addition = add(num1, num2)\n",
    "    subtraction = subtract(num1, num2)\n",
    "    multiplication = multiply(num1, num2)\n",
    "    try:\n",
    "        division = divide(num1, num2)\n",
    "    except ValueError as e:\n",
    "        division = None\n",
    "    results = (addition, subtraction, multiplication, division)\n",
    "    return results\n",
    "\n",
    "\n",
    "def calc_results_to_dict(*calc_results):\n",
    "    if len(calc_results) != 4:\n",
    "        return \"A tuple with 4 values is required\"\n",
    "    elif calc_results[3] is None:\n",
    "        return \"Cannot divide by zero\"\n",
    "    \n",
    "    operations_keys = (\"addition\", \"subtraction\", \"multiplication\", \"division\")\n",
    "    results_dict = {}\n",
    "    for count, value in enumerate(calc_results):\n",
    "        results_dict.update({operations_keys[count]: value})\n",
    "    return results_dict\n",
    "\n",
    "def input_number(number_name):\n",
    "    while True:\n",
    "        try:\n",
    "            number = float(input(f\"Enter your {number_name} number: \"))\n",
    "            return number\n",
    "        except ValueError:\n",
    "            print(\"Invalid number. Please try again.\")\n",
    "\n",
    "calc_input_1 = input_number(\"first\")\n",
    "calc_input_2 = input_number(\"second\")\n",
    "\n",
    "results = calc_operations(calc_input_1, calc_input_2)\n",
    "results_dict = calc_results_to_dict(*results)\n",
    "print(results_dict)"
   ]
  },
  {
   "cell_type": "markdown",
   "metadata": {},
   "source": [
    "### Filter names by profession 🎩🎓🧢👇\n",
    "\n",
    "1. Separar los nombres en tres grupos:\n",
    "    - `magicians`: Harry Houdini, David Blaine, Teller\n",
    "    - `scientists`: Newton, Hawking, Einstein\n",
    "    - `misc`: Messi, Pele, Juanes\n",
    "2. Definir `make_wonderful()`, que modifica la lista de magos añadiendo la\n",
    "frase 'El gran' antes del nombre de cada mago.\n",
    "3. Definir `print_famous_people_names()`, que imprime el nombre de cada persona de la lista.\n",
    "4. imprimir en pantalla la lista completa de nombres antes de ser modificados\n",
    "5. imprimir los nombres de los magos grandiosos, los nombres de los científicos, y los restantes."
   ]
  },
  {
   "cell_type": "code",
   "execution_count": null,
   "metadata": {},
   "outputs": [],
   "source": [
    "famous_people_by_profession = {\n",
    "    \"magicians\": [\"Harry Houdini\", \"David Blaine\", \"Teller\"],\n",
    "    \"scientists\": [\"Newton\", \"Hawking\", \"Einstein\"],\n",
    "    \"misc\": [\"Messi\", \"Pele\", \"Juanes\"],\n",
    "}\n",
    "\n",
    "def make_wonderful(dict):\n",
    "    magician_prefix = \"The Big \"\n",
    "    wonderful_dict=dict.copy()\n",
    "    for key, names_list in wonderful_dict.items():\n",
    "        if key==\"magicians\":\n",
    "            for idx, magician in enumerate(names_list):\n",
    "                wonderful_dict[\"magicians\"][idx] = magician_prefix+magician\n",
    "        break\n",
    "    return wonderful_dict\n",
    "\n",
    "def print_famous_people_names(dict, description_text):\n",
    "    divider = \"^-^-^-^-^-^-^-^-^-^-^-^-^-^-^-^-^-^-^-^-^-^-^-^-^-^-^-^-^-^-^\"\n",
    "    print(divider)\n",
    "    print(description_text)\n",
    "    for value in dict.values():\n",
    "        for names in value:\n",
    "            print(names)\n",
    "            \n",
    "print_famous_people_names(famous_people_by_profession, \"Famous people names with no modifications:\")\n",
    "print_famous_people_names(make_wonderful(famous_people_by_profession), \"Famous people names with modifications:\")"
   ]
  }
 ],
 "metadata": {
  "kernelspec": {
   "display_name": "Python 3",
   "language": "python",
   "name": "python3"
  },
  "language_info": {
   "codemirror_mode": {
    "name": "ipython",
    "version": 3
   },
   "file_extension": ".py",
   "mimetype": "text/x-python",
   "name": "python",
   "nbconvert_exporter": "python",
   "pygments_lexer": "ipython3",
   "version": "3.9.6"
  }
 },
 "nbformat": 4,
 "nbformat_minor": 2
}
