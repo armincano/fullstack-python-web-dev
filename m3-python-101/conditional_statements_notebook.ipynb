{
 "cells": [
  {
   "cell_type": "markdown",
   "metadata": {},
   "source": [
    "## Conditional statements ↪️\n"
   ]
  },
  {
   "cell_type": "markdown",
   "metadata": {},
   "source": [
    "### Game score system 🕹️👇 - `if` `elif` `dict`\n",
    "\n",
    "Desarrolla un sistema de puntuación interactivo para un juego de niveles utilizando Python. Avoid custom functions and iterative structures.\n"
   ]
  },
  {
   "cell_type": "code",
   "execution_count": 2,
   "metadata": {},
   "outputs": [
    {
     "name": "stdout",
     "output_type": "stream",
     "text": [
      "¡Bienvenido al sistema de puntuación interactivo para un juego de niveles!\n",
      "Los jugadores actuales son: Paulina, Juan y Chespirito\n",
      "¡Información ingresada correctamente!\n",
      "Puntuaciones actuales:\n",
      "Paulina: 10\n",
      "Juan: 25\n",
      "Chespirito: 50\n"
     ]
    }
   ],
   "source": [
    "niveles = [\"Fácil\", \"Medio\", \"Difícil\", \"Experto\"]\n",
    "puntos_por_nivel = [10, 20, 30, 50]\n",
    "\n",
    "player_1= {\"name\": \"Paulina\", \"score\": 10}\n",
    "player_2= {\"name\": \"Juan\", \"score\": 0}\n",
    "player_3= {\"name\": \"Chespirito\", \"score\": 50}\n",
    "\n",
    "print(\"¡Bienvenido al sistema de puntuación interactivo para un juego de niveles!\")\n",
    "print(\"Los jugadores actuales son: \"+player_1[\"name\"]+\", \"+player_2[\"name\"]+\" y \"+player_3[\"name\"])\n",
    "   \n",
    "player_name = input(\"Por favor, ingresa un nombre de jugador: \")\n",
    "level = input(\"Por favor, ingresa el nivel completado (Fácil, Medio, Difícil, Experto): \")\n",
    "time_to_complete = int(input(\"Por favor, ingresa el tiempo que tardaste en completar el nivel (en segundos): \"))\n",
    "\n",
    "if player_1[\"name\"] == player_name or player_2[\"name\"] == player_name or player_3[\"name\"] == player_name:\n",
    "    if level in niveles:\n",
    "        if time_to_complete > 0:\n",
    "            print(\"¡Información ingresada correctamente!\")\n",
    "\n",
    "            selected_player = {}\n",
    "            if player_1[\"name\"] == player_name: selected_player = player_1\n",
    "            elif player_2[\"name\"] == player_name: selected_player = player_2\n",
    "            else: selected_player = player_3\n",
    "\n",
    "            if level == \"Fácil\":\n",
    "                if time_to_complete <= 30:\n",
    "                   selected_player[\"score\"] += puntos_por_nivel[0] + 5\n",
    "                else:\n",
    "                   selected_player[\"score\"] += puntos_por_nivel[0]\n",
    "            elif level == \"Medio\":\n",
    "                if time_to_complete <= 30:\n",
    "                     selected_player[\"score\"] += puntos_por_nivel[1] + 5\n",
    "                else:\n",
    "                     selected_player[\"score\"] += puntos_por_nivel\n",
    "            elif level == \"Difícil\":\n",
    "                if time_to_complete <= 30:\n",
    "                     selected_player[\"score\"] += puntos_por_nivel[2] + 5\n",
    "                else:\n",
    "                     selected_player[\"score\"] += puntos_por_nivel[2]\n",
    "            else:\n",
    "                if time_to_complete <= 30:\n",
    "                     selected_player[\"score\"] += puntos_por_nivel[3] + 5\n",
    "                else:\n",
    "                     selected_player[\"score\"] += puntos_por_nivel[3]\n",
    "                     \n",
    "            print(\"Puntuaciones actuales:\")\n",
    "            print(player_1[\"name\"]+\": \"+str(player_1[\"score\"]))\n",
    "            print(player_2[\"name\"]+\": \"+str(player_2[\"score\"]))\n",
    "            print(player_3[\"name\"]+\": \"+str(player_3[\"score\"]))\n",
    "            \n",
    "        else:\n",
    "            print(\"Error: El tiempo ingresado debe ser un número positivo.\")\n",
    "    else:\n",
    "        print(\"Error: El nivel ingresado no es válido.\")\n",
    "else: print(\"Error: El jugador ingresado no existe.\")"
   ]
  },
  {
   "cell_type": "markdown",
   "metadata": {},
   "source": [
    "### Analyze number properties 🔢👇 - nesting conditions\n",
    "\n",
    "Analiza un número, e indica\n",
    "- si es positivo o negativo\n",
    "- si es par o impar\n",
    "- En caso de ser cero, también indicarlo.\n",
    "\n",
    "Avoid twice or more predicates (conditional expressions).\n",
    "Nesting conditions: when an `if` `elif` or `else` statement contains another within. "
   ]
  },
  {
   "cell_type": "code",
   "execution_count": 4,
   "metadata": {},
   "outputs": [
    {
     "name": "stdout",
     "output_type": "stream",
     "text": [
      "El número es negativo y par\n"
     ]
    }
   ],
   "source": [
    "number = -2\n",
    "\n",
    "if type(number) != int:\n",
    "    print(\"Este programa sólo trabaja con números\")\n",
    "elif number > 0:\n",
    "    if number % 2 == 0:\n",
    "        print(\"El número es positivo y par\")\n",
    "    else:\n",
    "        print(\"El número es positivo e impar\")\n",
    "elif number < 0:\n",
    "    if number % 2 == 0:\n",
    "        print(\"El número es negativo y par\")\n",
    "    else:\n",
    "        print(\"El número es negativo e impar\")\n",
    "else: print(\"El número es cero\")"
   ]
  }
 ],
 "metadata": {
  "kernelspec": {
   "display_name": "Python 3",
   "language": "python",
   "name": "python3"
  },
  "language_info": {
   "codemirror_mode": {
    "name": "ipython",
    "version": 3
   },
   "file_extension": ".py",
   "mimetype": "text/x-python",
   "name": "python",
   "nbconvert_exporter": "python",
   "pygments_lexer": "ipython3",
   "version": "3.9.6"
  }
 },
 "nbformat": 4,
 "nbformat_minor": 2
}
